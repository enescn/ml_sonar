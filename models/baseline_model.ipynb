{
 "cells": [
  {
   "cell_type": "code",
   "execution_count": 7,
   "metadata": {},
   "outputs": [
    {
     "name": "stdout",
     "output_type": "stream",
     "text": [
      "Accuracy: 0.7317073170731707\n",
      "Classification Report:\n",
      "               precision    recall  f1-score   support\n",
      "\n",
      "           M       0.61      0.73      0.67        15\n",
      "           R       0.83      0.73      0.78        26\n",
      "\n",
      "    accuracy                           0.73        41\n",
      "   macro avg       0.72      0.73      0.72        41\n",
      "weighted avg       0.75      0.73      0.74        41\n",
      "\n"
     ]
    }
   ],
   "source": [
    "import pandas as pd\n",
    "from sklearn.model_selection import train_test_split\n",
    "from sklearn.linear_model import LogisticRegression\n",
    "from sklearn.metrics import accuracy_score, classification_report\n",
    "\n",
    "# Veri yükleme\n",
    "data = pd.read_csv('E:/projects/MLProject_sonar/data/processed/reduced_features_data.csv')\n",
    "\n",
    "# Özellikler ve hedef\n",
    "X = data.drop('target', axis=1)\n",
    "y = data['target']\n",
    "\n",
    "# Veriyi bölme\n",
    "X_train, X_test, y_train, y_test = train_test_split(X, y, test_size=0.3, random_state=42)\n",
    "\n",
    "# Basit bir model oluşturma\n",
    "model = LogisticRegression(max_iter=1000)\n",
    "model.fit(X_train, y_train)\n",
    "\n",
    "# Tahmin yapma ve model değerlendirme\n",
    "y_pred = model.predict(X_test)\n",
    "print(\"Accuracy:\", accuracy_score(y_test, y_pred))\n",
    "print(\"Classification Report:\\n\", classification_report(y_test, y_pred))\n"
   ]
  },
  {
   "cell_type": "code",
   "execution_count": 8,
   "metadata": {},
   "outputs": [
    {
     "name": "stdout",
     "output_type": "stream",
     "text": [
      "Random Forest Accuracy: 0.8048780487804879\n",
      "Random Forest Classification Report:\n",
      "               precision    recall  f1-score   support\n",
      "\n",
      "           M       0.68      0.87      0.76        15\n",
      "           R       0.91      0.77      0.83        26\n",
      "\n",
      "    accuracy                           0.80        41\n",
      "   macro avg       0.80      0.82      0.80        41\n",
      "weighted avg       0.83      0.80      0.81        41\n",
      "\n"
     ]
    }
   ],
   "source": [
    "# Modeli değerlendirme\n",
    "from sklearn.ensemble import RandomForestClassifier\n",
    "from sklearn.metrics import accuracy_score, classification_report\n",
    "\n",
    "# Modeli eğit\n",
    "model_rf = RandomForestClassifier(n_estimators=100, random_state=42)\n",
    "model_rf.fit(X_train, y_train)\n",
    "\n",
    "# Model tahminleri\n",
    "y_pred_rf = model_rf.predict(X_test)\n",
    "\n",
    "# Performans değerlendirme\n",
    "print(\"Random Forest Accuracy:\", accuracy_score(y_test, y_pred_rf))\n",
    "print(\"Random Forest Classification Report:\\n\", classification_report(y_test, y_pred_rf))\n"
   ]
  }
 ],
 "metadata": {
  "kernelspec": {
   "display_name": "venv_sonar",
   "language": "python",
   "name": "python3"
  },
  "language_info": {
   "codemirror_mode": {
    "name": "ipython",
    "version": 3
   },
   "file_extension": ".py",
   "mimetype": "text/x-python",
   "name": "python",
   "nbconvert_exporter": "python",
   "pygments_lexer": "ipython3",
   "version": "3.9.13"
  }
 },
 "nbformat": 4,
 "nbformat_minor": 2
}
